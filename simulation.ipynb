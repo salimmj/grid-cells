{
 "cells": [
  {
   "cell_type": "markdown",
   "metadata": {},
   "source": [
    "![alt text](assets/p_hd_method.png \"Title\")"
   ]
  },
  {
   "cell_type": "code",
   "execution_count": 4,
   "metadata": {},
   "outputs": [
    {
     "data": {
      "text/plain": [
       "array([0.58622818, 0.74260842, 0.81533525])"
      ]
     },
     "execution_count": 4,
     "metadata": {},
     "output_type": "execute_result"
    }
   ],
   "source": [
    "import numpy as np\n",
    "\n",
    "# dimensionality\n",
    "D = 2\n",
    "\n",
    "# wall length of the cube\n",
    "L = 2.2\n",
    "\n",
    "# number of place cells\n",
    "N = 5\n",
    "\n",
    "# number of head direction cells\n",
    "M = 4\n",
    "\n",
    "#TODO figure out scalars\n",
    "# place cell scale -- positive scalar fixed before experiment\n",
    "SIGMA_c = 1\n",
    "\n",
    "# head direction concentration parameter -- positive scalar fixed before experiment\n",
    "K_h = 1\n",
    "\n",
    "# uniform distribution of place cell centers  \n",
    "PC_CENTERS = np.random.uniform(0,L,[N,D])\n",
    "\n",
    "# uniform distribution of head direction cell centers  \n",
    "HDC_CENTERS = np.random.uniform(-np.pi,np.pi,M)\n",
    "'''\n",
    "Place Cell Activations \n",
    "input\n",
    "    x : vector in R^D\n",
    "output\n",
    "    c : vector in [0,1]^N\n",
    "'''\n",
    "def c(x):\n",
    "    assert x.shape[0] == D\n",
    "    # each top term -- note: np.array([x,]*N)-PC_CENTERS <=> x-PC_CENTERS\n",
    "    iso_gaus_N = np.exp(-np.square(x-PC_CENTERS).sum(axis=1)/(2*SIGMA_c)**2)\n",
    "    # normalize\n",
    "    return iso_gaus_N/iso_gaus_N.sum()\n",
    "\n",
    "'''\n",
    "Head Direction Cell Activations \n",
    "input\n",
    "    rho : scalar in R\n",
    "output\n",
    "    h : vector in [0,1]^M\n",
    "'''\n",
    "def h(rho):\n",
    "    # each top term\n",
    "    von_mises_M = np.exp(K_h*np.cos(rho-HDC_CENTERS))\n",
    "    # normalize\n",
    "    return von_mises_M/von_mises_M.sum()\n",
    "    \n",
    "# random input x\n",
    "x = np.random.rand(3)\n",
    "c(np.array([1,2]))\n",
    "h(np.array([1]))\n",
    "\n",
    "'''\n",
    "In the supervised setup the grid cell network receives, at each step t,\n",
    "the egocentric linear velocity v_t in R and the sine and cosine of its angular velocity rho_t.\n",
    "\n",
    "The recurrent LSTM layer consists of one cell of 128 hidden units, with no peephole connections.\n",
    "Input to the recurrent LSTM layer is the vector [v_t, sin(rho_t), cos(rho_t)]\n",
    "TODO: should add the vertical angle too\n",
    "'''\n",
    "x"
   ]
  },
  {
   "cell_type": "code",
   "execution_count": 77,
   "metadata": {},
   "outputs": [
    {
     "data": {
      "text/plain": [
       "(3,)"
      ]
     },
     "execution_count": 77,
     "metadata": {},
     "output_type": "execute_result"
    }
   ],
   "source": [
    "x.shape"
   ]
  },
  {
   "cell_type": "code",
   "execution_count": 71,
   "metadata": {},
   "outputs": [
    {
     "data": {
      "text/plain": [
       "array([-1.73874753, -0.69977615, -0.4464233 , -1.27144363])"
      ]
     },
     "execution_count": 71,
     "metadata": {},
     "output_type": "execute_result"
    }
   ],
   "source": [
    "1-HDC_CENTERS"
   ]
  },
  {
   "cell_type": "code",
   "execution_count": 72,
   "metadata": {},
   "outputs": [
    {
     "data": {
      "text/plain": [
       "array([[-0.70524224, -0.72909966,  0.14407382],\n",
       "       [-1.71774301, -1.55198072, -1.24555044],\n",
       "       [-1.63107578, -2.09292193, -0.61853387],\n",
       "       [-1.59720704, -1.56218702,  0.2984798 ],\n",
       "       [ 0.16698444, -0.41820722, -0.56045414]])"
      ]
     },
     "execution_count": 72,
     "metadata": {},
     "output_type": "execute_result"
    }
   ],
   "source": [
    "x-PC_CENTERS"
   ]
  },
  {
   "cell_type": "code",
   "execution_count": 73,
   "metadata": {},
   "outputs": [
    {
     "data": {
      "text/plain": [
       "array([[-0.70524224, -0.72909966,  0.14407382],\n",
       "       [-1.71774301, -1.55198072, -1.24555044],\n",
       "       [-1.63107578, -2.09292193, -0.61853387],\n",
       "       [-1.59720704, -1.56218702,  0.2984798 ],\n",
       "       [ 0.16698444, -0.41820722, -0.56045414]])"
      ]
     },
     "execution_count": 73,
     "metadata": {},
     "output_type": "execute_result"
    }
   ],
   "source": [
    "np.array([x,]*N)-PC_CENTERS"
   ]
  },
  {
   "cell_type": "markdown",
   "metadata": {},
   "source": [
    "![alt text](assets/rat_trajectory.png \"Title\")"
   ]
  },
  {
   "cell_type": "code",
   "execution_count": 144,
   "metadata": {},
   "outputs": [],
   "source": [
    "import numpy as np\n",
    "import math\n",
    "import matplotlib.pyplot as plt\n",
    "from mpl_toolkits.mplot3d import Axes3D\n",
    "\n",
    "maps = {\n",
    "    'circularCage': {'b': 16.44, 'mu': 0.31, 'sigma': 355.35},\n",
    "    'squareCage': {'b': 13.02, 'mu': -0.03, 'sigma': 330.12},\n",
    "    'squareCageWithWall': {'b': 12.95, 'mu': 1.89, 'sigma': 331.07}\n",
    "}\n",
    "\n",
    "def unit_vector(vector):\n",
    "    \"\"\" Returns the unit vector of the vector.\"\"\"\n",
    "    return vector / np.linalg.norm(vector)\n",
    "\n",
    "def angle_between(v1, v2):\n",
    "    \"\"\"Finds angle between two vectors\"\"\"\n",
    "    v1_u = unit_vector(v1)\n",
    "    v2_u = unit_vector(v2)\n",
    "    return np.arccos(np.clip(np.dot(v1_u, v2_u), -1.0, 1.0))\n",
    "\n",
    "def y_rotation(vector,theta):\n",
    "    \"\"\"Rotates 3-D vector around y-axis\"\"\"\n",
    "    R = np.array([[np.cos(theta),0,np.sin(theta)],[0,1,0],[-np.sin(theta), 0, np.cos(theta)]])\n",
    "    return np.dot(R,vector)\n",
    "\n",
    "def shortest_distance(x1, y1, a, b, c):  \n",
    "    d = abs((a * x1 + b * y1 + c)) / (math.sqrt(a * a + b * b)) \n",
    "    print(\"Perpendicular distance is\"),d \n",
    "\n",
    "def angle(v1, v2, acute):\n",
    "# v1 is your firsr vector\n",
    "# v2 is your second vector\n",
    "    angle = np.arccos(np.dot(v1, v2) / (np.linalg.norm(v1) * np.linalg.norm(v2)))\n",
    "    if (acute == True):\n",
    "        return angle\n",
    "    else:\n",
    "        return 2 * np.pi - angle\n",
    "\n",
    "def min_dist_angle(prev_position, direction, up, scene):\n",
    "    if scene[0] != 'squareCage' and scene[0] != 'squareCageWithWall':\n",
    "        return\n",
    "    \n",
    "    # length of the cage\n",
    "    L = scene[1]\n",
    "    \n",
    "    # Perpendicular distance to line \n",
    "    # Southern Wall z = 0\n",
    "    s_dist = prev_position[2]\n",
    "    # Northern Wall z = L\n",
    "    n_dist = L - prev_position[2]\n",
    "    # Western Wall x = 0\n",
    "    w_dist = prev_position[0]\n",
    "    # Eastern Wall x = L\n",
    "    e_dist = L - prev_position[0]\n",
    "    \n",
    "    wall_dists = [s_dist, n_dist, w_dist, e_dist]\n",
    "    \n",
    "    min_pos = np.argmin(wall_dists)\n",
    "    \n",
    "    dWall = wall_dists[min_pos]\n",
    "    \n",
    "    west_wall = [-1, 0, 0]\n",
    "\n",
    "    north_wall = [0, 0, 1]\n",
    "\n",
    "    east_wall = [1, 0, 0]\n",
    "\n",
    "    south_wall = [0, 0, -1]\n",
    "    \n",
    "    walls = [south_wall, north_wall, west_wall, east_wall]\n",
    "    \n",
    "    return [dWall, angle(direction, walls[min_pos], True)]\n",
    "    \n",
    "    \n",
    "def generate_rat_trajectory(scene, samples):\n",
    "    \"\"\"\n",
    "    scene - contains a description of the environment \n",
    "    samples - number of samples\n",
    "    ---\n",
    "    position - (samples,3)-shaped matrix holding the 3-dim positions overtime\n",
    "    velocity - (samples,3)-shaped matrix holding the 3-dim velocities overtime\n",
    "    \"\"\"\n",
    "    \n",
    "    # Initialize parameters for velocity and camera\n",
    "    v = 2\n",
    "    dirr = np.array([0, 0, 1])\n",
    "    up = np.array([0, 1, 0])\n",
    "    dt = 0.02\n",
    "    \n",
    "    # create random velocity samples\n",
    "    random_turn = np.random.normal(maps[scene[0]]['mu'], maps[scene[0]]['sigma'], samples)\n",
    "    random_velocity = np.random.rayleigh(maps[scene[0]]['b'], samples)\n",
    "    \n",
    "    # allocate memory for x, y, and z-components of position and velocity\n",
    "    position_matrix = x = np.zeros((samples, 3))\n",
    "    position_matrix[0] = np.array([0, 0, 10]) # initialize\n",
    "    velocity_matrix = x = np.zeros((samples, 3))\n",
    "    \n",
    "    for step in range(1, samples):\n",
    "        # computes the min distance and corresponding angle for a position\n",
    "        [dWall, aWall] = min_dist_angle(position_matrix[step-1], dirr, up, scene)\n",
    "        \n",
    "        # update speed and turn angle \n",
    "        if dWall<2 and np.absolute(aWall)<np.pi/2:\n",
    "            angle = aWall/np.absolute(aWall)*(np.pi-np.absolute(aWall)) + random_turn[step]\n",
    "            v = v-0.5*(v-5) # slow down\n",
    "        else:\n",
    "            v = random_velocity[step]\n",
    "            angle = random_turn[step]\n",
    "        \n",
    "        # move.\n",
    "        position_matrix[step] = position_matrix[step-1] + dirr*v*dt\n",
    "        velocity_matrix[step] = dirr*v*dt\n",
    "        \n",
    "        # turn the 3D direction vector around y-axis\n",
    "        dirr = y_rotation(dirr, angle)\n",
    "    \n",
    "    return [position_matrix, velocity_matrix]"
   ]
  },
  {
   "cell_type": "code",
   "execution_count": 145,
   "metadata": {},
   "outputs": [],
   "source": [
    "[position_matrix, velocity_matrix] = generate_rat_trajectory(['squareCage', 15],100) # 220 cm, 100 samples"
   ]
  },
  {
   "cell_type": "code",
   "execution_count": 146,
   "metadata": {},
   "outputs": [
    {
     "data": {
      "image/png": "[encoded data removed]",
      "text/plain": [
       "<Figure size 432x288 with 1 Axes>"
      ]
     },
     "metadata": {
      "needs_background": "light"
     },
     "output_type": "display_data"
    }
   ],
   "source": [
    "plt.plot(position_matrix[:,0], position_matrix[:,2])\n",
    "plt.show()"
   ]
  },
  {
   "cell_type": "code",
   "execution_count": 116,
   "metadata": {},
   "outputs": [
    {
     "data": {
      "text/plain": [
       "25.0562586424125"
      ]
     },
     "execution_count": 116,
     "metadata": {},
     "output_type": "execute_result"
    }
   ],
   "source": [
    "position_matrix[:,0].max()"
   ]
  },
  {
   "cell_type": "code",
   "execution_count": 111,
   "metadata": {},
   "outputs": [],
   "source": [
    "def angle(v1, v2, acute):\n",
    "# v1 is your firsr vector\n",
    "# v2 is your second vector\n",
    "    angle = np.arccos(np.dot(v1, v2) / (np.linalg.norm(v1) * np.linalg.norm(v2)))\n",
    "    if (acute == True):\n",
    "        return angle\n",
    "    else:\n",
    "        return 2 * np.pi - angle"
   ]
  },
  {
   "cell_type": "code",
   "execution_count": 2,
   "metadata": {},
   "outputs": [
    {
     "ename": "NameError",
     "evalue": "name 'angle' is not defined",
     "output_type": "error",
     "traceback": [
      "\u001b[0;31m---------------------------------------------------------------------------\u001b[0m",
      "\u001b[0;31mNameError\u001b[0m                                 Traceback (most recent call last)",
      "\u001b[0;32m<ipython-input-2-5a1c62823be5>\u001b[0m in \u001b[0;36m<module>\u001b[0;34m\u001b[0m\n\u001b[0;32m----> 1\u001b[0;31m \u001b[0mangle\u001b[0m\u001b[0;34m(\u001b[0m\u001b[0mv0\u001b[0m\u001b[0;34m,\u001b[0m \u001b[0mv1\u001b[0m\u001b[0;34m,\u001b[0m \u001b[0;34m'True'\u001b[0m\u001b[0;34m)\u001b[0m\u001b[0;34m\u001b[0m\u001b[0;34m\u001b[0m\u001b[0m\n\u001b[0m",
      "\u001b[0;31mNameError\u001b[0m: name 'angle' is not defined"
     ]
    }
   ],
   "source": [
    "angle(v0, v1, 'True')"
   ]
  },
  {
   "cell_type": "code",
   "execution_count": 7,
   "metadata": {},
   "outputs": [
    {
     "ename": "ModuleNotFoundError",
     "evalue": "No module named 'vg'",
     "output_type": "error",
     "traceback": [
      "\u001b[0;31m---------------------------------------------------------------------------\u001b[0m",
      "\u001b[0;31mModuleNotFoundError\u001b[0m                       Traceback (most recent call last)",
      "\u001b[0;32m<ipython-input-7-3906068df065>\u001b[0m in \u001b[0;36m<module>\u001b[0;34m\u001b[0m\n\u001b[1;32m      1\u001b[0m \u001b[0;32mimport\u001b[0m \u001b[0mnumpy\u001b[0m \u001b[0;32mas\u001b[0m \u001b[0mnp\u001b[0m\u001b[0;34m\u001b[0m\u001b[0;34m\u001b[0m\u001b[0m\n\u001b[0;32m----> 2\u001b[0;31m \u001b[0;32mimport\u001b[0m \u001b[0mvg\u001b[0m\u001b[0;34m\u001b[0m\u001b[0;34m\u001b[0m\u001b[0m\n\u001b[0m\u001b[1;32m      3\u001b[0m \u001b[0;34m\u001b[0m\u001b[0m\n\u001b[1;32m      4\u001b[0m \u001b[0mvg\u001b[0m\u001b[0;34m.\u001b[0m\u001b[0mangle\u001b[0m\u001b[0;34m(\u001b[0m\u001b[0mv0\u001b[0m\u001b[0;34m,\u001b[0m \u001b[0mv1\u001b[0m\u001b[0;34m)\u001b[0m\u001b[0;34m\u001b[0m\u001b[0;34m\u001b[0m\u001b[0m\n",
      "\u001b[0;31mModuleNotFoundError\u001b[0m: No module named 'vg'"
     ]
    }
   ],
   "source": [
    "import numpy as np\n",
    "import vg\n",
    "\n",
    "vg.angle(v0, v1)"
   ]
  },
  {
   "cell_type": "code",
   "execution_count": 9,
   "metadata": {},
   "outputs": [
    {
     "name": "stdout",
     "output_type": "stream",
     "text": [
      "90.0\n",
      "270.0\n"
     ]
    }
   ],
   "source": [
    "def angle(v1, v2, acute):\n",
    "# v1 is your firsr vector\n",
    "# v2 is your second vector\n",
    "    angle = np.arccos(np.dot(v1, v2) / (np.linalg.norm(v1) * np.linalg.norm(v2)))\n",
    "    if (acute == True):\n",
    "        return angle\n",
    "    else:\n",
    "        return 2 * np.pi - angle\n",
    "\n",
    "vec1 = [1, -1, 0]\n",
    "vec2 = [1, 1, 0]\n",
    "\n",
    "#I am explicitly converting from radian to degree\n",
    "print(180* angle(vec1, vec2, True)/np.pi) #90 degrees\n",
    "print(180* angle(vec2, vec1, False)/np.pi) #270 degrees"
   ]
  },
  {
   "cell_type": "code",
   "execution_count": 149,
   "metadata": {},
   "outputs": [
    {
     "ename": "ModuleNotFoundError",
     "evalue": "No module named 'tensorflow'",
     "output_type": "error",
     "traceback": [
      "\u001b[0;31m---------------------------------------------------------------------------\u001b[0m",
      "\u001b[0;31mModuleNotFoundError\u001b[0m                       Traceback (most recent call last)",
      "\u001b[0;32m<ipython-input-149-4724a2d23988>\u001b[0m in \u001b[0;36m<module>\u001b[0;34m\u001b[0m\n\u001b[0;32m----> 1\u001b[0;31m \u001b[0;32mimport\u001b[0m \u001b[0mtensorflow\u001b[0m \u001b[0;32mas\u001b[0m \u001b[0mtf\u001b[0m\u001b[0;34m\u001b[0m\u001b[0;34m\u001b[0m\u001b[0m\n\u001b[0m\u001b[1;32m      2\u001b[0m \u001b[0mtf\u001b[0m\u001b[0;34m.\u001b[0m\u001b[0menable_eager_execution\u001b[0m\u001b[0;34m(\u001b[0m\u001b[0;34m)\u001b[0m\u001b[0;34m\u001b[0m\u001b[0;34m\u001b[0m\u001b[0m\n\u001b[1;32m      3\u001b[0m \u001b[0msum\u001b[0m\u001b[0;34m(\u001b[0m\u001b[0;36m1\u001b[0m \u001b[0;32mfor\u001b[0m \u001b[0m_\u001b[0m \u001b[0;32min\u001b[0m \u001b[0mtf\u001b[0m\u001b[0;34m.\u001b[0m\u001b[0mdata\u001b[0m\u001b[0;34m.\u001b[0m\u001b[0mTFRecordDataset\u001b[0m\u001b[0;34m(\u001b[0m\u001b[0;34m'grid-cells/datasets/square_room_100steps_2.2m_1000000/0000-of-0099.tfrecord'\u001b[0m\u001b[0;34m)\u001b[0m\u001b[0;34m)\u001b[0m\u001b[0;34m\u001b[0m\u001b[0;34m\u001b[0m\u001b[0m\n",
      "\u001b[0;31mModuleNotFoundError\u001b[0m: No module named 'tensorflow'"
     ]
    }
   ],
   "source": [
    "import tensorflow as tf\n",
    "tf.enable_eager_execution()\n",
    "sum(1 for _ in tf.data.TFRecordDataset('grid-cells/datasets/square_room_100steps_2.2m_1000000/0000-of-0099.tfrecord'))"
   ]
  },
  {
   "cell_type": "code",
   "execution_count": null,
   "metadata": {},
   "outputs": [],
   "source": []
  }
 ],
 "metadata": {
  "kernelspec": {
   "display_name": "Python 3",
   "language": "python",
   "name": "python3"
  },
  "language_info": {
   "codemirror_mode": {
    "name": "ipython",
    "version": 3
   },
   "file_extension": ".py",
   "mimetype": "text/x-python",
   "name": "python",
   "nbconvert_exporter": "python",
   "pygments_lexer": "ipython3",
   "version": "3.5.3"
  }
 },
 "nbformat": 4,
 "nbformat_minor": 4
}
